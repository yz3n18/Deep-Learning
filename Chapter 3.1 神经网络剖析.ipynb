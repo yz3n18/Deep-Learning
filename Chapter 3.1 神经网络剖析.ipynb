{
 "cells": [
  {
   "cell_type": "markdown",
   "metadata": {},
   "source": [
    "## 训练神经网络的四个方面  \n",
    "1.层，多个层组成网络(或模型)  \n",
    "2.输入数据+相应的目标.  \n",
    "3.损失函数，忌用于学习的反馈信号。  \n",
    "4.优化器，决定学习过程如何进行优化。\n"
   ]
  },
  {
   "cell_type": "markdown",
   "metadata": {},
   "source": [
    "### 3.1.1 层：深度学习的基础组件\n",
    "层是一个数据处理模块，将一个或多个输入张量转换为一个或多个输出张量。  \n",
    "层兼容性(layer compatibility)具体指的是每一层只接受特定形状的输入张量，并返回特定形状的输出张量。\n"
   ]
  },
  {
   "cell_type": "code",
   "execution_count": null,
   "metadata": {},
   "outputs": [],
   "source": [
    "from tensorflow import keras\n",
    "from tensorflow.keras import models\n",
    "from tensorflow.keras import layers\n",
    "\n",
    "model=models.Sequential()\n",
    "model.add(layers.Dense(32,input_shape=(784,))) #只接受第一个维度为784的2D张量，同时输出为32维度 \n",
    "model.add(layers.Dense(32)) # 只接受32维向量"
   ]
  },
  {
   "cell_type": "markdown",
   "metadata": {},
   "source": [
    "### 3.1.2 模型: 层构成的网络\n",
    "深度学习模型是由层构成的有向无环图。  \n",
    "最简单的例子: 层的线形堆叠，将单一输入映射成单一输出。  \n",
    "其他拓扑结构: 1)双分支(two-branch)网络; 2）多头(multihead)网络; 3)Inception模块  \n",
    "选择合适的网络架构更像是一门艺术而不是科学。"
   ]
  },
  {
   "cell_type": "markdown",
   "metadata": {},
   "source": [
    "### 3.1.3 损失函数与优化器: 配置学习过程中的关键\n",
    "损失函数(目标函数): 在训练过程中需要将其最小化，用来衡量当前任务是否已经完成。loss\n",
    "\n",
    "优化器: 决定如何基于损失函数对网络进行优化。它执行的是随机梯度下降(SGD)的某个变体。optimizer  \n",
    "\n",
    "具有多个输出的神经网络具有多个损失函数，但只有一个梯度下降的过程，所以需要将所有损失函数取平均，变成一个标量值。  \n",
    "\n",
    "二分类问题--binary crossentropy(二元交叉熵)  \n",
    "多分类问题--categorical crossentropy  \n",
    "回归问题--mean-squared error (均方误差)  \n",
    "序列学习问题--connectionist temporal classification \n"
   ]
  },
  {
   "cell_type": "code",
   "execution_count": null,
   "metadata": {},
   "outputs": [],
   "source": []
  }
 ],
 "metadata": {
  "kernelspec": {
   "display_name": "Python 3",
   "language": "python",
   "name": "python3"
  },
  "language_info": {
   "codemirror_mode": {
    "name": "ipython",
    "version": 3
   },
   "file_extension": ".py",
   "mimetype": "text/x-python",
   "name": "python",
   "nbconvert_exporter": "python",
   "pygments_lexer": "ipython3",
   "version": "3.8.3"
  }
 },
 "nbformat": 4,
 "nbformat_minor": 4
}
