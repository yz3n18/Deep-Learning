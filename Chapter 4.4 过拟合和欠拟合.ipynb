{
 "cells": [
  {
   "cell_type": "markdown",
   "metadata": {},
   "source": [
    "在上一章的三个例子（预测电影评论、主题分类和房价回归）中，模型在留出验证数据上的性能总是在几轮后达到最高点，然后开始下降。也就是说，模型很快就在训练数据上开始过拟合。过拟合存在于所有机器学习问题中。学会如何处理过拟合对掌握机器学习至关重要。  \n",
    "\n",
    "机器学习的根本问题是优化和泛化之间的对立。优化（optimization）是指调节模型以在训练数据上得到最佳性能（即机器学习中的学习），而泛化（generalization）是指训练好的模型在前所未见的数据上的性能好坏。机器学习的目的当然是得到良好的泛化，但你无法控制泛化，只能基于训练数据调节模型。  \n",
    "\n",
    "训练开始时，优化和泛化是相关的：训练数据上的损失越小，测试数据上的损失也越小。这时的模型是欠拟合（underfit）的，即仍有改进的空间，网络还没有对训练数据中所有相关模式建模。但在训练数据上迭代一定次数之后，泛化不再提高，验证指标先是不变，然后开始变差，即模型开始过拟合。这时模型开始学习仅和训练数据有关的模式，但这种模式对新数据来说是错误的或无关紧要的。  \n",
    "\n",
    "为了防止模型从训练数据中学到错误或无关紧要的模式，最优解决方法是获取更多的训练数据。模型的训练数据越多，泛化能力自然也越好。如果无法获取更多数据，次优解决方法是调节模型允许存储的信息量，或对模型允许存储的信息加以约束。如果一个网络只能记住几个模式，那么优化过程会迫使模型集中学习最重要的模式，这样更可能得到良好的泛化。  \n",
    "\n",
    "这种降低过拟合的方法叫作正则化（regularization）。我们先介绍几种最常见的正则化方法，然后将其应用于实践中，以改进 3.4节的电影分类模型。"
   ]
  },
  {
   "cell_type": "markdown",
   "metadata": {},
   "source": [
    "### 4.4.1　减小网络大小\n",
    "防止过拟合的最简单的方法就是减小模型大小，即减少模型中可学习参数的个数（这由层数和每层的单元个数决定）。在深度学习中，模型中可学习参数的个数通常被称为模型的容量（capacity）。直观上来看，参数更多的模型拥有更大的记忆容量（memorization capacity），因此能够在训练样本和目标之间轻松地学会完美的字典式映射，这种映射没有任何泛化能力。例如，拥有 500,000个二进制参数的模型，能够轻松学会MNIST训练集中所有数字对应的类别——我们只需让50,000个数字每个都对应10个二进制参数。但这种模型对于新数字样本的分类毫无用处。始终牢记：深度学习模型通常都很擅长拟合训练数据，但真正的挑战在于泛化，而不是拟合。  \n",
    "\n",
    "与此相反，如果网络的记忆资源有限，则无法轻松学会这种映射。因此，为了让损失最小化，网络必须学会对目标具有很强预测能力的压缩表示，这也正是我们感兴趣的数据表示。同时请记住，你使用的模型应该具有足够多的参数，以防欠拟合，即模型应避免记忆资源不足。在容量过大与容量不足之间要找到一个折中。   \n",
    "\n",
    "要找到合适的模型大小，一般的工作流程是开始时选择相对较少的层和参数，然后逐渐增加层的大小或增加新层，直到这种增加对验证损失的影响变得很小。"
   ]
  },
  {
   "cell_type": "code",
   "execution_count": 17,
   "metadata": {},
   "outputs": [],
   "source": [
    "import numpy as np\n",
    "import tensorflow as tf\n",
    "from tensorflow import keras\n",
    "from tensorflow.keras import models\n",
    "from tensorflow.keras import layers\n",
    "from tensorflow.keras.datasets import imdb\n",
    "from tensorflow.keras import losses\n",
    "from tensorflow.keras import metrics\n",
    "from tensorflow.keras import regularizers\n",
    "import matplotlib.pyplot as plt"
   ]
  },
  {
   "cell_type": "code",
   "execution_count": 2,
   "metadata": {},
   "outputs": [
    {
     "name": "stderr",
     "output_type": "stream",
     "text": [
      "<__array_function__ internals>:5: VisibleDeprecationWarning: Creating an ndarray from ragged nested sequences (which is a list-or-tuple of lists-or-tuples-or ndarrays with different lengths or shapes) is deprecated. If you meant to do this, you must specify 'dtype=object' when creating the ndarray.\n",
      "/Users/yihuawang/conda/lib/python3.8/site-packages/tensorflow/python/keras/datasets/imdb.py:159: VisibleDeprecationWarning: Creating an ndarray from ragged nested sequences (which is a list-or-tuple of lists-or-tuples-or ndarrays with different lengths or shapes) is deprecated. If you meant to do this, you must specify 'dtype=object' when creating the ndarray.\n",
      "  x_train, y_train = np.array(xs[:idx]), np.array(labels[:idx])\n",
      "/Users/yihuawang/conda/lib/python3.8/site-packages/tensorflow/python/keras/datasets/imdb.py:160: VisibleDeprecationWarning: Creating an ndarray from ragged nested sequences (which is a list-or-tuple of lists-or-tuples-or ndarrays with different lengths or shapes) is deprecated. If you meant to do this, you must specify 'dtype=object' when creating the ndarray.\n",
      "  x_test, y_test = np.array(xs[idx:]), np.array(labels[idx:])\n"
     ]
    }
   ],
   "source": [
    "(train_data, train_labels), (test_data, test_labels) = imdb.load_data(num_words=10000)"
   ]
  },
  {
   "cell_type": "code",
   "execution_count": 3,
   "metadata": {},
   "outputs": [],
   "source": [
    "word_index = imdb.get_word_index() # word_index是一个将单词映射为整数索引的字典\n",
    "\n",
    "reverse_word_index = dict( # 字典功能 \n",
    "    [(value, key) for (key, value) in word_index.items()]) # 键值颠倒，将整数索引映射为单词\n",
    "\n",
    "decoded_review = \" \".join(\n",
    "    [reverse_word_index.get(i - 3, \"?\") for i in train_data[0]]) # 对train_data[0]中的各个i, 利用reverse_word_index进行映射\n",
    "# 减去3是因为 0对应 padding; 2对应 start of sequence; 3对应 unknown. 它们通通被映射为?"
   ]
  },
  {
   "cell_type": "code",
   "execution_count": 4,
   "metadata": {},
   "outputs": [],
   "source": [
    "import numpy as np\n",
    "def vectorize_sequences(sequences, dimension=10000): # 取10,000是因为我们之前限定了10,000个最常见的单词，因此单词索引不会超过10,000\n",
    "    # 以train_data[0]为例子\n",
    "    results = np.zeros((len(sequences), dimension)) #产生一个 218* 10,000的矩阵\n",
    "    for i, sequence in enumerate(sequences): #enumerate() 会产生[(0, 1),(1, 14),...,(217, 32)], \n",
    "                                             #前一个数字代表position, 后一个数字代表单词索引\n",
    "        for j in sequence:\n",
    "            results[i, j] = 1.\n",
    "    return results\n",
    "x_train = vectorize_sequences(train_data)\n",
    "x_test = vectorize_sequences(test_data)"
   ]
  },
  {
   "cell_type": "code",
   "execution_count": 5,
   "metadata": {},
   "outputs": [],
   "source": [
    "y_train = np.asarray(train_labels).astype(\"float32\")\n",
    "y_test = np.asarray(test_labels).astype(\"float32\")"
   ]
  },
  {
   "cell_type": "code",
   "execution_count": 10,
   "metadata": {},
   "outputs": [
    {
     "name": "stdout",
     "output_type": "stream",
     "text": [
      "Epoch 1/20\n",
      "30/30 [==============================] - 2s 35ms/step - loss: 0.5732 - accuracy: 0.7204 - val_loss: 0.3669 - val_accuracy: 0.8669\n",
      "Epoch 2/20\n",
      "30/30 [==============================] - 0s 16ms/step - loss: 0.2956 - accuracy: 0.9111 - val_loss: 0.3045 - val_accuracy: 0.8825\n",
      "Epoch 3/20\n",
      "30/30 [==============================] - 0s 16ms/step - loss: 0.2136 - accuracy: 0.9333 - val_loss: 0.3351 - val_accuracy: 0.8608\n",
      "Epoch 4/20\n",
      "30/30 [==============================] - 0s 15ms/step - loss: 0.1707 - accuracy: 0.9433 - val_loss: 0.3037 - val_accuracy: 0.8785\n",
      "Epoch 5/20\n",
      "30/30 [==============================] - 0s 16ms/step - loss: 0.1348 - accuracy: 0.9595 - val_loss: 0.2826 - val_accuracy: 0.8876\n",
      "Epoch 6/20\n",
      "30/30 [==============================] - 1s 18ms/step - loss: 0.1075 - accuracy: 0.9695 - val_loss: 0.3255 - val_accuracy: 0.8792\n",
      "Epoch 7/20\n",
      "30/30 [==============================] - 0s 16ms/step - loss: 0.0931 - accuracy: 0.9738 - val_loss: 0.3313 - val_accuracy: 0.8771\n",
      "Epoch 8/20\n",
      "30/30 [==============================] - 0s 16ms/step - loss: 0.0734 - accuracy: 0.9813 - val_loss: 0.3453 - val_accuracy: 0.8807\n",
      "Epoch 9/20\n",
      "30/30 [==============================] - 0s 16ms/step - loss: 0.0650 - accuracy: 0.9830 - val_loss: 0.3664 - val_accuracy: 0.8752\n",
      "Epoch 10/20\n",
      "30/30 [==============================] - 1s 17ms/step - loss: 0.0479 - accuracy: 0.9903 - val_loss: 0.3889 - val_accuracy: 0.8789\n",
      "Epoch 11/20\n",
      "30/30 [==============================] - 0s 16ms/step - loss: 0.0402 - accuracy: 0.9921 - val_loss: 0.4127 - val_accuracy: 0.8751\n",
      "Epoch 12/20\n",
      "30/30 [==============================] - 0s 17ms/step - loss: 0.0317 - accuracy: 0.9947 - val_loss: 0.4545 - val_accuracy: 0.8743\n",
      "Epoch 13/20\n",
      "30/30 [==============================] - 1s 17ms/step - loss: 0.0262 - accuracy: 0.9955 - val_loss: 0.4775 - val_accuracy: 0.8723\n",
      "Epoch 14/20\n",
      "30/30 [==============================] - 1s 17ms/step - loss: 0.0200 - accuracy: 0.9972 - val_loss: 0.5195 - val_accuracy: 0.8710\n",
      "Epoch 15/20\n",
      "30/30 [==============================] - 0s 16ms/step - loss: 0.0189 - accuracy: 0.9972 - val_loss: 0.5468 - val_accuracy: 0.8684\n",
      "Epoch 16/20\n",
      "30/30 [==============================] - 0s 16ms/step - loss: 0.0124 - accuracy: 0.9989 - val_loss: 0.5902 - val_accuracy: 0.8649\n",
      "Epoch 17/20\n",
      "30/30 [==============================] - 0s 16ms/step - loss: 0.0106 - accuracy: 0.9993 - val_loss: 0.6198 - val_accuracy: 0.8667\n",
      "Epoch 18/20\n",
      "30/30 [==============================] - 0s 16ms/step - loss: 0.0083 - accuracy: 0.9992 - val_loss: 0.6600 - val_accuracy: 0.8656\n",
      "Epoch 19/20\n",
      "30/30 [==============================] - 1s 18ms/step - loss: 0.0056 - accuracy: 0.9997 - val_loss: 0.6942 - val_accuracy: 0.8648\n",
      "Epoch 20/20\n",
      "30/30 [==============================] - 0s 15ms/step - loss: 0.0036 - accuracy: 0.9999 - val_loss: 0.7262 - val_accuracy: 0.8640\n"
     ]
    }
   ],
   "source": [
    "# 原始模型\n",
    "model = models.Sequential()\n",
    "model.add(layers.Dense(16, activation='relu', input_shape=(10000,))) # hidden unit=16\n",
    "model.add(layers.Dense(16, activation='relu')) #hidden unit=16\n",
    "model.add(layers.Dense(1, activation='sigmoid')) # hidden unit=1\n",
    "\n",
    "model.compile(optimizer=\"rmsprop\",\n",
    "              loss=\"binary_crossentropy\",\n",
    "              metrics=[\"accuracy\"])\n",
    "x_val = x_train[:10000]\n",
    "partial_x_train = x_train[10000:]\n",
    "y_val = y_train[:10000]\n",
    "partial_y_train = y_train[10000:]\n",
    "\n",
    "history.orignal = model.fit(partial_x_train,\n",
    "                    partial_y_train,\n",
    "                    epochs=20, # 模型训练20轮次\n",
    "                    batch_size=512, #batch_size 批量大小，即一次训练所选取的样本数，512个样本促成的小批量\n",
    "                    validation_data=(x_val, y_val)) #将验证数据传入validation_data 来监控损失和精度"
   ]
  },
  {
   "cell_type": "code",
   "execution_count": 12,
   "metadata": {},
   "outputs": [
    {
     "name": "stdout",
     "output_type": "stream",
     "text": [
      "Epoch 1/20\n",
      "30/30 [==============================] - 1s 32ms/step - loss: 0.6446 - accuracy: 0.6586 - val_loss: 0.5200 - val_accuracy: 0.8360\n",
      "Epoch 2/20\n",
      "30/30 [==============================] - 0s 15ms/step - loss: 0.4717 - accuracy: 0.8758 - val_loss: 0.4252 - val_accuracy: 0.8620\n",
      "Epoch 3/20\n",
      "30/30 [==============================] - 0s 14ms/step - loss: 0.3775 - accuracy: 0.8937 - val_loss: 0.3648 - val_accuracy: 0.8779\n",
      "Epoch 4/20\n",
      "30/30 [==============================] - 0s 14ms/step - loss: 0.3078 - accuracy: 0.9142 - val_loss: 0.3246 - val_accuracy: 0.8832\n",
      "Epoch 5/20\n",
      "30/30 [==============================] - 0s 17ms/step - loss: 0.2561 - accuracy: 0.9265 - val_loss: 0.3032 - val_accuracy: 0.8847\n",
      "Epoch 6/20\n",
      "30/30 [==============================] - 0s 14ms/step - loss: 0.2200 - accuracy: 0.9358 - val_loss: 0.2846 - val_accuracy: 0.8906\n",
      "Epoch 7/20\n",
      "30/30 [==============================] - 0s 14ms/step - loss: 0.1935 - accuracy: 0.9423 - val_loss: 0.2804 - val_accuracy: 0.8890\n",
      "Epoch 8/20\n",
      "30/30 [==============================] - 0s 14ms/step - loss: 0.1685 - accuracy: 0.9523 - val_loss: 0.2735 - val_accuracy: 0.8885\n",
      "Epoch 9/20\n",
      "30/30 [==============================] - 0s 14ms/step - loss: 0.1464 - accuracy: 0.9573 - val_loss: 0.2847 - val_accuracy: 0.8849\n",
      "Epoch 10/20\n",
      "30/30 [==============================] - 0s 14ms/step - loss: 0.1283 - accuracy: 0.9641 - val_loss: 0.2778 - val_accuracy: 0.8863\n",
      "Epoch 11/20\n",
      "30/30 [==============================] - 0s 14ms/step - loss: 0.1130 - accuracy: 0.9705 - val_loss: 0.2851 - val_accuracy: 0.8855\n",
      "Epoch 12/20\n",
      "30/30 [==============================] - 0s 14ms/step - loss: 0.1052 - accuracy: 0.9715 - val_loss: 0.2899 - val_accuracy: 0.8857\n",
      "Epoch 13/20\n",
      "30/30 [==============================] - 0s 14ms/step - loss: 0.0904 - accuracy: 0.9765 - val_loss: 0.2991 - val_accuracy: 0.8834\n",
      "Epoch 14/20\n",
      "30/30 [==============================] - 0s 15ms/step - loss: 0.0769 - accuracy: 0.9817 - val_loss: 0.3111 - val_accuracy: 0.8837\n",
      "Epoch 15/20\n",
      "30/30 [==============================] - 0s 14ms/step - loss: 0.0677 - accuracy: 0.9858 - val_loss: 0.3270 - val_accuracy: 0.8811\n",
      "Epoch 16/20\n",
      "30/30 [==============================] - 0s 15ms/step - loss: 0.0612 - accuracy: 0.9873 - val_loss: 0.3404 - val_accuracy: 0.8783\n",
      "Epoch 17/20\n",
      "30/30 [==============================] - 0s 15ms/step - loss: 0.0502 - accuracy: 0.9908 - val_loss: 0.3530 - val_accuracy: 0.8786\n",
      "Epoch 18/20\n",
      "30/30 [==============================] - 0s 16ms/step - loss: 0.0443 - accuracy: 0.9916 - val_loss: 0.3731 - val_accuracy: 0.8784\n",
      "Epoch 19/20\n",
      "30/30 [==============================] - 0s 16ms/step - loss: 0.0385 - accuracy: 0.9924 - val_loss: 0.3926 - val_accuracy: 0.8773\n",
      "Epoch 20/20\n",
      "30/30 [==============================] - 0s 14ms/step - loss: 0.0335 - accuracy: 0.9941 - val_loss: 0.4000 - val_accuracy: 0.8774\n"
     ]
    }
   ],
   "source": [
    "# 容量更小的模型\n",
    "model = models.Sequential()\n",
    "model.add(layers.Dense(4, activation='relu', input_shape=(10000,))) # hidden unit=16\n",
    "model.add(layers.Dense(4, activation='relu')) #hidden unit=16\n",
    "model.add(layers.Dense(1, activation='sigmoid')) # hidden unit=1\n",
    "\n",
    "model.compile(optimizer=\"rmsprop\",\n",
    "              loss=\"binary_crossentropy\",\n",
    "              metrics=[\"accuracy\"])\n",
    "x_val = x_train[:10000]\n",
    "partial_x_train = x_train[10000:]\n",
    "y_val = y_train[:10000]\n",
    "partial_y_train = y_train[10000:]\n",
    "\n",
    "history.smaller = model.fit(partial_x_train,\n",
    "                    partial_y_train,\n",
    "                    epochs=20, # 模型训练20轮次\n",
    "                    batch_size=512, #batch_size 批量大小，即一次训练所选取的样本数，512个样本促成的小批量\n",
    "                    validation_data=(x_val, y_val)) #将验证数据传入validation_data 来监控损失和精度"
   ]
  },
  {
   "cell_type": "code",
   "execution_count": 14,
   "metadata": {},
   "outputs": [
    {
     "data": {
      "image/png": "[encoded data removed]",
      "text/plain": [
       "<Figure size 432x288 with 1 Axes>"
      ]
     },
     "metadata": {
      "needs_background": "light"
     },
     "output_type": "display_data"
    }
   ],
   "source": [
    "# 画图 Plotting the training and validation loss\n",
    "import matplotlib.pyplot as plt\n",
    "history_dict = history.orignal.history\n",
    "val_loss_values = history_dict[\"val_loss\"] # 提取在10,000个样品的train集上的loss values\n",
    "\n",
    "history_dict = history.smaller.history\n",
    "val_loss_values_smaller = history_dict[\"val_loss\"] # 提取在10,000个样品的train集上的loss values\n",
    "\n",
    "epochs = range(1, len(loss_values) + 1) # x axis\n",
    "plt.plot(epochs, val_loss_values, \"b\", label=\"Original model\")\n",
    "plt.plot(epochs, val_loss_values_smaller, \"b\",color=\"red\", label=\"Samller model\")\n",
    "plt.title(\"Validation loss\")\n",
    "plt.xlabel(\"Epochs\")\n",
    "plt.ylabel(\"Loss\")\n",
    "plt.legend()\n",
    "plt.show()\n",
    "\n",
    "# 请记住，更小的验证损失对应更好的模型,这里反而是小模型效果更好"
   ]
  },
  {
   "cell_type": "code",
   "execution_count": 15,
   "metadata": {},
   "outputs": [
    {
     "name": "stdout",
     "output_type": "stream",
     "text": [
      "Epoch 1/20\n",
      "30/30 [==============================] - 5s 133ms/step - loss: 0.6812 - accuracy: 0.6831 - val_loss: 0.3371 - val_accuracy: 0.8577\n",
      "Epoch 2/20\n",
      "30/30 [==============================] - 3s 105ms/step - loss: 0.2710 - accuracy: 0.8942 - val_loss: 0.3172 - val_accuracy: 0.8664\n",
      "Epoch 3/20\n",
      "30/30 [==============================] - 3s 100ms/step - loss: 0.1450 - accuracy: 0.9463 - val_loss: 0.2844 - val_accuracy: 0.8911\n",
      "Epoch 4/20\n",
      "30/30 [==============================] - 3s 90ms/step - loss: 0.0605 - accuracy: 0.9793 - val_loss: 0.3624 - val_accuracy: 0.8635\n",
      "Epoch 5/20\n",
      "30/30 [==============================] - 3s 104ms/step - loss: 0.0202 - accuracy: 0.9964 - val_loss: 1.2949 - val_accuracy: 0.7357\n",
      "Epoch 6/20\n",
      "30/30 [==============================] - 3s 85ms/step - loss: 0.0770 - accuracy: 0.9710 - val_loss: 0.5332 - val_accuracy: 0.8883\n",
      "Epoch 7/20\n",
      "30/30 [==============================] - 3s 88ms/step - loss: 6.5205e-04 - accuracy: 0.9997 - val_loss: 0.6217 - val_accuracy: 0.8885\n",
      "Epoch 8/20\n",
      "30/30 [==============================] - 4s 134ms/step - loss: 7.3096e-05 - accuracy: 1.0000 - val_loss: 0.7294 - val_accuracy: 0.8876\n",
      "Epoch 9/20\n",
      "30/30 [==============================] - 3s 91ms/step - loss: 1.3423e-05 - accuracy: 1.0000 - val_loss: 0.8319 - val_accuracy: 0.8869\n",
      "Epoch 10/20\n",
      "30/30 [==============================] - 3s 95ms/step - loss: 2.6898e-06 - accuracy: 1.0000 - val_loss: 0.9263 - val_accuracy: 0.8852\n",
      "Epoch 11/20\n",
      "30/30 [==============================] - 3s 85ms/step - loss: 7.7258e-07 - accuracy: 1.0000 - val_loss: 0.9995 - val_accuracy: 0.8873\n",
      "Epoch 12/20\n",
      "30/30 [==============================] - 3s 94ms/step - loss: 2.2064e-07 - accuracy: 1.0000 - val_loss: 1.0817 - val_accuracy: 0.8871\n",
      "Epoch 13/20\n",
      "30/30 [==============================] - 3s 96ms/step - loss: 8.8765e-08 - accuracy: 1.0000 - val_loss: 1.1413 - val_accuracy: 0.8872\n",
      "Epoch 14/20\n",
      "30/30 [==============================] - 2s 82ms/step - loss: 4.3587e-08 - accuracy: 1.0000 - val_loss: 1.1762 - val_accuracy: 0.8868\n",
      "Epoch 15/20\n",
      "30/30 [==============================] - 2s 80ms/step - loss: 2.4609e-08 - accuracy: 1.0000 - val_loss: 1.2028 - val_accuracy: 0.8855\n",
      "Epoch 16/20\n",
      "30/30 [==============================] - 2s 83ms/step - loss: 1.7501e-08 - accuracy: 1.0000 - val_loss: 1.2217 - val_accuracy: 0.8865\n",
      "Epoch 17/20\n",
      "30/30 [==============================] - 2s 81ms/step - loss: 1.3157e-08 - accuracy: 1.0000 - val_loss: 1.2362 - val_accuracy: 0.8854\n",
      "Epoch 18/20\n",
      "30/30 [==============================] - 2s 81ms/step - loss: 1.1188e-08 - accuracy: 1.0000 - val_loss: 1.2483 - val_accuracy: 0.8865\n",
      "Epoch 19/20\n",
      "30/30 [==============================] - 2s 81ms/step - loss: 9.1056e-09 - accuracy: 1.0000 - val_loss: 1.2585 - val_accuracy: 0.8860\n",
      "Epoch 20/20\n",
      "30/30 [==============================] - 2s 80ms/step - loss: 7.7321e-09 - accuracy: 1.0000 - val_loss: 1.2685 - val_accuracy: 0.8854\n"
     ]
    }
   ],
   "source": [
    "# 容量更大的模型\n",
    "model = models.Sequential()\n",
    "model.add(layers.Dense(512, activation='relu', input_shape=(10000,))) # hidden unit=16\n",
    "model.add(layers.Dense(512, activation='relu')) #hidden unit=16\n",
    "model.add(layers.Dense(1, activation='sigmoid')) # hidden unit=1\n",
    "\n",
    "model.compile(optimizer=\"rmsprop\",\n",
    "              loss=\"binary_crossentropy\",\n",
    "              metrics=[\"accuracy\"])\n",
    "x_val = x_train[:10000]\n",
    "partial_x_train = x_train[10000:]\n",
    "y_val = y_train[:10000]\n",
    "partial_y_train = y_train[10000:]\n",
    "\n",
    "history.bigger = model.fit(partial_x_train,\n",
    "                    partial_y_train,\n",
    "                    epochs=20, # 模型训练20轮次\n",
    "                    batch_size=512, #batch_size 批量大小，即一次训练所选取的样本数，512个样本促成的小批量\n",
    "                    validation_data=(x_val, y_val)) #将验证数据传入validation_data 来监控损失和精度"
   ]
  },
  {
   "cell_type": "code",
   "execution_count": 16,
   "metadata": {},
   "outputs": [
    {
     "data": {
      "image/png": "[encoded data removed]",
      "text/plain": [
       "<Figure size 432x288 with 1 Axes>"
      ]
     },
     "metadata": {
      "needs_background": "light"
     },
     "output_type": "display_data"
    }
   ],
   "source": [
    "# 画图 Plotting the training and validation loss\n",
    "import matplotlib.pyplot as plt\n",
    "history_dict = history.orignal.history\n",
    "val_loss_values = history_dict[\"val_loss\"] # 提取在10,000个样品的train集上的loss values\n",
    "\n",
    "history_dict = history.bigger.history\n",
    "val_loss_values_bigger = history_dict[\"val_loss\"] # 提取在10,000个样品的train集上的loss values\n",
    "\n",
    "epochs = range(1, len(loss_values) + 1) # x axis\n",
    "plt.plot(epochs, val_loss_values, \"b\", label=\"Original model\")\n",
    "plt.plot(epochs, val_loss_values_bigger, \"b\",color=\"red\", label=\"bigger model\")\n",
    "plt.title(\"Validation loss\")\n",
    "plt.xlabel(\"Epochs\")\n",
    "plt.ylabel(\"Loss\")\n",
    "plt.legend()\n",
    "plt.show()\n",
    "\n",
    "# 请记住，更小的验证损失对应更好的模型,这里大模型马上就显示出过拟合"
   ]
  },
  {
   "cell_type": "markdown",
   "metadata": {},
   "source": [
    "### 4.4.2　添加权重正则化\n",
    "奥卡姆剃刀（Occam’s  razor）原理：如果一件事情有两种解释，那么最可能正确的解释就是最简单的那个，即假设更少的那个。  \n",
    "\n",
    "这个原理也适用于神经网络学到的模型：给定一些训练数据和一种网络架构，很多组权重值（即很多模型）都可以解释这些数据。  \n",
    "\n",
    "但简单模型比复杂模型更不容易过拟合。\n",
    "\n",
    "这里的简单模型（simple model）是指参数值分布的熵更小的模型（或参数更少的模型，比如上一节的例子）。   \n",
    "\n",
    "因此，一种常见的降低过拟合的方法就是强制让模型权重只能取较小的值，从而限制模型的复杂度，这使得权重值的分布更加规则（regular）。这种方法叫作权重正则化（weight regularization），其实现方法是向网络损失函数中添加与较大权重值相关的成本（cost）。这个成本有两种形式。  \n",
    "\n",
    "1. L1正则化（L1  regularization）：添加的成本与权重系数的绝对值［权重的 L1范数（norm）］成正比。\n",
    "2. L2正则化（L2  regularization）：添加的成本与权重系数的平方（权重的 L2范数）成正比。神经网络的 L2正则化也叫权重衰减（weight  decay）。不要被不同的名称搞混，权重衰减与 L2正则化在数学上是完全相同的。"
   ]
  },
  {
   "cell_type": "code",
   "execution_count": 21,
   "metadata": {},
   "outputs": [
    {
     "name": "stdout",
     "output_type": "stream",
     "text": [
      "Epoch 1/20\n",
      "30/30 [==============================] - 1s 29ms/step - loss: 0.6479 - accuracy: 0.7056 - val_loss: 0.4434 - val_accuracy: 0.8698\n",
      "Epoch 2/20\n",
      "30/30 [==============================] - 0s 17ms/step - loss: 0.3854 - accuracy: 0.8964 - val_loss: 0.3819 - val_accuracy: 0.8641\n",
      "Epoch 3/20\n",
      "30/30 [==============================] - 0s 16ms/step - loss: 0.2988 - accuracy: 0.9197 - val_loss: 0.3367 - val_accuracy: 0.8897\n",
      "Epoch 4/20\n",
      "30/30 [==============================] - 0s 16ms/step - loss: 0.2578 - accuracy: 0.9349 - val_loss: 0.3353 - val_accuracy: 0.8860\n",
      "Epoch 5/20\n",
      "30/30 [==============================] - 0s 16ms/step - loss: 0.2370 - accuracy: 0.9421 - val_loss: 0.3381 - val_accuracy: 0.8860\n",
      "Epoch 6/20\n",
      "30/30 [==============================] - 0s 16ms/step - loss: 0.2175 - accuracy: 0.9492 - val_loss: 0.3492 - val_accuracy: 0.8844\n",
      "Epoch 7/20\n",
      "30/30 [==============================] - 0s 16ms/step - loss: 0.2138 - accuracy: 0.9493 - val_loss: 0.3671 - val_accuracy: 0.8797\n",
      "Epoch 8/20\n",
      "30/30 [==============================] - 0s 16ms/step - loss: 0.1923 - accuracy: 0.9586 - val_loss: 0.3681 - val_accuracy: 0.8790\n",
      "Epoch 9/20\n",
      "30/30 [==============================] - 0s 16ms/step - loss: 0.1873 - accuracy: 0.9641 - val_loss: 0.3668 - val_accuracy: 0.8801\n",
      "Epoch 10/20\n",
      "30/30 [==============================] - 0s 16ms/step - loss: 0.1786 - accuracy: 0.9663 - val_loss: 0.3714 - val_accuracy: 0.8810\n",
      "Epoch 11/20\n",
      "30/30 [==============================] - 0s 16ms/step - loss: 0.1727 - accuracy: 0.9684 - val_loss: 0.3796 - val_accuracy: 0.8809\n",
      "Epoch 12/20\n",
      "30/30 [==============================] - 0s 16ms/step - loss: 0.1718 - accuracy: 0.9680 - val_loss: 0.3966 - val_accuracy: 0.8747\n",
      "Epoch 13/20\n",
      "30/30 [==============================] - 0s 16ms/step - loss: 0.1643 - accuracy: 0.9723 - val_loss: 0.4547 - val_accuracy: 0.8657\n",
      "Epoch 14/20\n",
      "30/30 [==============================] - 0s 16ms/step - loss: 0.1686 - accuracy: 0.9671 - val_loss: 0.4026 - val_accuracy: 0.8759\n",
      "Epoch 15/20\n",
      "30/30 [==============================] - 0s 16ms/step - loss: 0.1545 - accuracy: 0.9751 - val_loss: 0.5094 - val_accuracy: 0.8540\n",
      "Epoch 16/20\n",
      "30/30 [==============================] - 0s 16ms/step - loss: 0.1596 - accuracy: 0.9698 - val_loss: 0.4248 - val_accuracy: 0.8746\n",
      "Epoch 17/20\n",
      "30/30 [==============================] - 0s 16ms/step - loss: 0.1537 - accuracy: 0.9742 - val_loss: 0.4261 - val_accuracy: 0.8711\n",
      "Epoch 18/20\n",
      "30/30 [==============================] - 0s 16ms/step - loss: 0.1477 - accuracy: 0.9758 - val_loss: 0.4266 - val_accuracy: 0.8748\n",
      "Epoch 19/20\n",
      "30/30 [==============================] - 0s 16ms/step - loss: 0.1443 - accuracy: 0.9788 - val_loss: 0.4370 - val_accuracy: 0.8703\n",
      "Epoch 20/20\n",
      "30/30 [==============================] - 0s 17ms/step - loss: 0.1467 - accuracy: 0.9762 - val_loss: 0.4639 - val_accuracy: 0.8697\n"
     ]
    }
   ],
   "source": [
    "# l2(0.001)的意思是该层权重矩阵的每个系数都会使网络总损失增加0.001 * weight_coefficient_value。\n",
    "# 注意，由于这个惩罚项只在训练时添加，所以这个网络的训练损失会比测试损失大很多。\n",
    "model = models.Sequential()\n",
    "model.add(layers.Dense(16, kernel_regularizer=regularizers.l2(0.001),#\n",
    "        activation='relu', input_shape=(10000,)))\n",
    "model.add(layers.Dense(16, kernel_regularizer=regularizers.l2(0.001),\n",
    "        activation='relu'))\n",
    "model.add(layers.Dense(1, activation='sigmoid'))\n",
    "\n",
    "model.compile(optimizer=\"rmsprop\",\n",
    "              loss=\"binary_crossentropy\",\n",
    "              metrics=[\"accuracy\"])\n",
    "x_val = x_train[:10000]\n",
    "partial_x_train = x_train[10000:]\n",
    "y_val = y_train[:10000]\n",
    "partial_y_train = y_train[10000:]\n",
    "\n",
    "history.L2 = model.fit(partial_x_train,\n",
    "                    partial_y_train,\n",
    "                    epochs=20, # 模型训练20轮次\n",
    "                    batch_size=512, #batch_size 批量大小，即一次训练所选取的样本数，512个样本促成的小批量\n",
    "                    validation_data=(x_val, y_val)) #将验证数据传入validation_data 来监控损失和精度"
   ]
  },
  {
   "cell_type": "code",
   "execution_count": 22,
   "metadata": {},
   "outputs": [
    {
     "data": {
      "image/png": "[encoded data removed]",
      "text/plain": [
       "<Figure size 432x288 with 1 Axes>"
      ]
     },
     "metadata": {
      "needs_background": "light"
     },
     "output_type": "display_data"
    }
   ],
   "source": [
    "# 画图 Plotting the training and validation loss\n",
    "import matplotlib.pyplot as plt\n",
    "history_dict = history.orignal.history\n",
    "val_loss_values = history_dict[\"val_loss\"] # 提取在10,000个样品的train集上的loss values\n",
    "\n",
    "history_dict = history.L2.history\n",
    "val_loss_values_L2 = history_dict[\"val_loss\"] # 提取在10,000个样品的train集上的loss values\n",
    "\n",
    "epochs = range(1, len(loss_values) + 1) # x axis\n",
    "plt.plot(epochs, val_loss_values, \"b\", label=\"Original model\")\n",
    "plt.plot(epochs, val_loss_values_L2, \"b\",color=\"red\", label=\"L2 model\")\n",
    "plt.title(\"Validation loss\")\n",
    "plt.xlabel(\"Epochs\")\n",
    "plt.ylabel(\"Loss\")\n",
    "plt.legend()\n",
    "plt.show()\n",
    "#L2正则化惩罚的影响。如你所见，即使两个模型的参数个数相同，具有 L2正则化的模型（圆点）比参考模型（十字）更不容易过拟合"
   ]
  },
  {
   "cell_type": "code",
   "execution_count": 24,
   "metadata": {},
   "outputs": [
    {
     "name": "stdout",
     "output_type": "stream",
     "text": [
      "Epoch 1/20\n",
      "30/30 [==============================] - 1s 33ms/step - loss: 0.6662 - accuracy: 0.5969 - val_loss: 0.5672 - val_accuracy: 0.7255\n",
      "Epoch 2/20\n",
      "30/30 [==============================] - 1s 18ms/step - loss: 0.5350 - accuracy: 0.7812 - val_loss: 0.5297 - val_accuracy: 0.7611\n",
      "Epoch 3/20\n",
      "30/30 [==============================] - 0s 16ms/step - loss: 0.4849 - accuracy: 0.8530 - val_loss: 0.5163 - val_accuracy: 0.7936\n",
      "Epoch 4/20\n",
      "30/30 [==============================] - 0s 15ms/step - loss: 0.4568 - accuracy: 0.8893 - val_loss: 0.5135 - val_accuracy: 0.8102\n",
      "Epoch 5/20\n",
      "30/30 [==============================] - 0s 14ms/step - loss: 0.4348 - accuracy: 0.9110 - val_loss: 0.4890 - val_accuracy: 0.8803\n",
      "Epoch 6/20\n",
      "30/30 [==============================] - 0s 14ms/step - loss: 0.4203 - accuracy: 0.9321 - val_loss: 0.5101 - val_accuracy: 0.8319\n",
      "Epoch 7/20\n",
      "30/30 [==============================] - 0s 15ms/step - loss: 0.4019 - accuracy: 0.9355 - val_loss: 0.4785 - val_accuracy: 0.8778\n",
      "Epoch 8/20\n",
      "30/30 [==============================] - 0s 16ms/step - loss: 0.3914 - accuracy: 0.9467 - val_loss: 0.4897 - val_accuracy: 0.8630\n",
      "Epoch 9/20\n",
      "30/30 [==============================] - 0s 16ms/step - loss: 0.3812 - accuracy: 0.9554 - val_loss: 0.4922 - val_accuracy: 0.8672\n",
      "Epoch 10/20\n",
      "30/30 [==============================] - 0s 14ms/step - loss: 0.3679 - accuracy: 0.9606 - val_loss: 0.5158 - val_accuracy: 0.8529\n",
      "Epoch 11/20\n",
      "30/30 [==============================] - 0s 15ms/step - loss: 0.3575 - accuracy: 0.9622 - val_loss: 0.5051 - val_accuracy: 0.8616\n",
      "Epoch 12/20\n",
      "30/30 [==============================] - 0s 14ms/step - loss: 0.3469 - accuracy: 0.9707 - val_loss: 0.5097 - val_accuracy: 0.8619\n",
      "Epoch 13/20\n",
      "30/30 [==============================] - 0s 14ms/step - loss: 0.3388 - accuracy: 0.9718 - val_loss: 0.4829 - val_accuracy: 0.8749\n",
      "Epoch 14/20\n",
      "30/30 [==============================] - 0s 14ms/step - loss: 0.3320 - accuracy: 0.9761 - val_loss: 0.4996 - val_accuracy: 0.8666\n",
      "Epoch 15/20\n",
      "30/30 [==============================] - 0s 14ms/step - loss: 0.3254 - accuracy: 0.9770 - val_loss: 0.5025 - val_accuracy: 0.8676\n",
      "Epoch 16/20\n",
      "30/30 [==============================] - 0s 14ms/step - loss: 0.3183 - accuracy: 0.9790 - val_loss: 0.5376 - val_accuracy: 0.8586\n",
      "Epoch 17/20\n",
      "30/30 [==============================] - 0s 14ms/step - loss: 0.3134 - accuracy: 0.9765 - val_loss: 0.5020 - val_accuracy: 0.8683\n",
      "Epoch 18/20\n",
      "30/30 [==============================] - 0s 16ms/step - loss: 0.3016 - accuracy: 0.9803 - val_loss: 0.5048 - val_accuracy: 0.8674\n",
      "Epoch 19/20\n",
      "30/30 [==============================] - 0s 14ms/step - loss: 0.2994 - accuracy: 0.9817 - val_loss: 0.5110 - val_accuracy: 0.8654\n",
      "Epoch 20/20\n",
      "30/30 [==============================] - 0s 14ms/step - loss: 0.2878 - accuracy: 0.9816 - val_loss: 0.4656 - val_accuracy: 0.8646\n"
     ]
    }
   ],
   "source": [
    "#L2+smaller model\n",
    "model = models.Sequential()\n",
    "model.add(layers.Dense(4, kernel_regularizer=regularizers.l2(0.001),#\n",
    "        activation='relu', input_shape=(10000,)))\n",
    "model.add(layers.Dense(4, kernel_regularizer=regularizers.l2(0.001),\n",
    "        activation='relu'))\n",
    "model.add(layers.Dense(1, activation='sigmoid'))\n",
    "\n",
    "model.compile(optimizer=\"rmsprop\",\n",
    "              loss=\"binary_crossentropy\",\n",
    "              metrics=[\"accuracy\"])\n",
    "x_val = x_train[:10000]\n",
    "partial_x_train = x_train[10000:]\n",
    "y_val = y_train[:10000]\n",
    "partial_y_train = y_train[10000:]\n",
    "\n",
    "history.L2.smaller = model.fit(partial_x_train,\n",
    "                    partial_y_train,\n",
    "                    epochs=20, # 模型训练20轮次\n",
    "                    batch_size=512, #batch_size 批量大小，即一次训练所选取的样本数，512个样本促成的小批量\n",
    "                    validation_data=(x_val, y_val)) #将验证数据传入validation_data 来监控损失和精度"
   ]
  },
  {
   "cell_type": "code",
   "execution_count": 26,
   "metadata": {},
   "outputs": [
    {
     "data": {
      "image/png": "[encoded data removed]",
      "text/plain": [
       "<Figure size 432x288 with 1 Axes>"
      ]
     },
     "metadata": {
      "needs_background": "light"
     },
     "output_type": "display_data"
    }
   ],
   "source": [
    "# 画图 Plotting the training and validation loss\n",
    "import matplotlib.pyplot as plt\n",
    "history_dict = history.orignal.history\n",
    "val_loss_values = history_dict[\"val_loss\"] # 提取在10,000个样品的train集上的loss values\n",
    "\n",
    "history_dict = history.L2.history\n",
    "val_loss_values_L2 = history_dict[\"val_loss\"] # 提取在10,000个样品的train集上的loss values\n",
    "\n",
    "history_dict = history.smaller.history\n",
    "val_loss_values_smaller = history_dict[\"val_loss\"] # 提取在10,000个样品的train集上的loss values\n",
    "\n",
    "history_dict = history.L2.smaller.history\n",
    "val_loss_values_L2_smaller = history_dict[\"val_loss\"] # 提取在10,000个样品的train集上的loss values\n",
    "\n",
    "epochs = range(1, len(loss_values) + 1) # x axis\n",
    "plt.plot(epochs, val_loss_values, \"b\", label=\"Original model\")\n",
    "plt.plot(epochs, val_loss_values_L2, \"b\",color=\"red\", label=\"L2 model\")\n",
    "plt.plot(epochs, val_loss_values_smaller, \"b\",color=\"green\", label=\"smaller model\")\n",
    "plt.plot(epochs, val_loss_values_L2_smaller, \"b\",color=\"black\", label=\"L2+smaller model\")\n",
    "plt.title(\"Validation loss\")\n",
    "plt.xlabel(\"Epochs\")\n",
    "plt.ylabel(\"Loss\")\n",
    "plt.legend()\n",
    "plt.show()\n",
    "\n",
    "# 加了L2导致最开始的loss收敛变慢了"
   ]
  },
  {
   "cell_type": "code",
   "execution_count": null,
   "metadata": {},
   "outputs": [],
   "source": [
    "model.add(layers.Dense(4, kernel_regularizer=regularizers.l1(0.001),#L1正则化\n",
    "        activation='relu', input_shape=(10000,)))\n",
    "\n",
    "model.add(layers.Dense(4, kernel_regularizer=regularizers.l1_l2(l1=0.001,l2=0.001),#L1,L2同时正则化\n",
    "        activation='relu', input_shape=(10000,)))"
   ]
  },
  {
   "cell_type": "markdown",
   "metadata": {},
   "source": [
    "### 4.4.3　添加 dropout正则化\n",
    "dropout是神经网络最有效也最常用的正则化方法之一，它是由多伦多大学的  Geoffrey Hinton和他的学生开发的。对某一层使用dropout，就是在训练过程中随机将该层的一些输出特征舍弃（设置为0）。  \n",
    "\n",
    "假设在训练过程中，某一层对给定输入样本的返回值应该是向量[0.2,  0.5,1.3, 0.8,  1.1]。使用 dropout后，这个向量会有几个随机的元素变成     0，比如 [0, 0.5,1.3, 0,  1.1]。  \n",
    "\n",
    "dropout比率(dropout rate)是被设为0的特征所占的比例，通常在0.2~0.5范围内。  \n",
    "\n",
    "测试时没有单元被舍弃，而该层的输出值需要按 dropout比率缩小，因为这时比训练时有更多的单元被激活，需要加以平衡。"
   ]
  },
  {
   "cell_type": "code",
   "execution_count": null,
   "metadata": {},
   "outputs": [],
   "source": [
    "# 假设有一个包含某层输出的Numpy矩阵 layer_output，其形状为(batch_size,features)。训练时，我们随机将矩阵中一部分值设为 0。\n",
    "\n",
    "# np.random.randint: 返回一个随机整型数,范围从低（包括）到高（不包括, 该例子就是随机产生 0/1\n",
    "layer_output *= np.random.randint(0, high=2, size=layer_output.shape) #训练时，舍弃50% 的输出单元 \n",
    "\n",
    "# 测试时，我们将输出按 dropout比率缩小。这里我们乘以 0.5（因为前面舍弃了一半的单元）。\n",
    "layer_output *= 0.5\n",
    "\n",
    "\n",
    "# 注意，为了实现这一过程，还可以让两个运算都在训练时进行，而测试时输出保持不变。这通常也是实践中的实现方式（见图 4-8）。\n",
    "layer_output *= np.random.randint(0, high=2, size=layer_output.shape)\n",
    "layer_output /= 0.5 #成比例放大\n"
   ]
  },
  {
   "cell_type": "code",
   "execution_count": 33,
   "metadata": {},
   "outputs": [
    {
     "data": {
      "text/plain": [
       "array([1, 0, 1, 1, 0, 1, 1, 0, 0, 1])"
      ]
     },
     "execution_count": 33,
     "metadata": {},
     "output_type": "execute_result"
    }
   ],
   "source": [
    "np.random.randint(0, high=2, size=10)"
   ]
  },
  {
   "cell_type": "markdown",
   "metadata": {},
   "source": [
    "#### 它为什么能够降低过拟合？  \n",
    "Hinton说他的灵感之一来自于银行的防欺诈机制。用他自己的话来说：“我去银行办理业务。柜员不停地换人，于是我问其中一人这是为什么。他说他不知道，但他们经常换来换去。我猜想，银行工作人员要想成功欺诈银行，他们之间要互相合作才行。这让我意识到，在每个样本中随机删除不同的部分神经元，可以阻止它们的阴谋，因此可以降低过拟合。”其核心思想是在层的输出值中引入噪声，打破不显著的偶然模式（Hinton称之为阴谋）。如果没有噪声的话，网络将会记住这些偶然模式。\n",
    "\n"
   ]
  },
  {
   "cell_type": "code",
   "execution_count": 34,
   "metadata": {},
   "outputs": [
    {
     "name": "stdout",
     "output_type": "stream",
     "text": [
      "Epoch 1/20\n",
      "30/30 [==============================] - 3s 67ms/step - loss: 0.6732 - accuracy: 0.5657 - val_loss: 0.5362 - val_accuracy: 0.8407\n",
      "Epoch 2/20\n",
      "30/30 [==============================] - 1s 18ms/step - loss: 0.5445 - accuracy: 0.7298 - val_loss: 0.4239 - val_accuracy: 0.8688\n",
      "Epoch 3/20\n",
      "30/30 [==============================] - 1s 20ms/step - loss: 0.4464 - accuracy: 0.8117 - val_loss: 0.3572 - val_accuracy: 0.8688\n",
      "Epoch 4/20\n",
      "30/30 [==============================] - 1s 18ms/step - loss: 0.3756 - accuracy: 0.8487 - val_loss: 0.3184 - val_accuracy: 0.8775\n",
      "Epoch 5/20\n",
      "30/30 [==============================] - 0s 17ms/step - loss: 0.3313 - accuracy: 0.8792 - val_loss: 0.2895 - val_accuracy: 0.8912\n",
      "Epoch 6/20\n",
      "30/30 [==============================] - 0s 16ms/step - loss: 0.2751 - accuracy: 0.9076 - val_loss: 0.2738 - val_accuracy: 0.8921\n",
      "Epoch 7/20\n",
      "30/30 [==============================] - 0s 16ms/step - loss: 0.2480 - accuracy: 0.9206 - val_loss: 0.2977 - val_accuracy: 0.8858\n",
      "Epoch 8/20\n",
      "30/30 [==============================] - 1s 18ms/step - loss: 0.2153 - accuracy: 0.9323 - val_loss: 0.2777 - val_accuracy: 0.8913\n",
      "Epoch 9/20\n",
      "30/30 [==============================] - 1s 19ms/step - loss: 0.1964 - accuracy: 0.9428 - val_loss: 0.2896 - val_accuracy: 0.8904\n",
      "Epoch 10/20\n",
      "30/30 [==============================] - 0s 16ms/step - loss: 0.1746 - accuracy: 0.9477 - val_loss: 0.3097 - val_accuracy: 0.8874\n",
      "Epoch 11/20\n",
      "30/30 [==============================] - 0s 17ms/step - loss: 0.1527 - accuracy: 0.9562 - val_loss: 0.3219 - val_accuracy: 0.8872\n",
      "Epoch 12/20\n",
      "30/30 [==============================] - 1s 18ms/step - loss: 0.1424 - accuracy: 0.9614 - val_loss: 0.3617 - val_accuracy: 0.8879\n",
      "Epoch 13/20\n",
      "30/30 [==============================] - 0s 16ms/step - loss: 0.1275 - accuracy: 0.9655 - val_loss: 0.3836 - val_accuracy: 0.8863\n",
      "Epoch 14/20\n",
      "30/30 [==============================] - 0s 17ms/step - loss: 0.1212 - accuracy: 0.9678 - val_loss: 0.3944 - val_accuracy: 0.8869\n",
      "Epoch 15/20\n",
      "30/30 [==============================] - 0s 16ms/step - loss: 0.1082 - accuracy: 0.9701 - val_loss: 0.4056 - val_accuracy: 0.8858\n",
      "Epoch 16/20\n",
      "30/30 [==============================] - 0s 16ms/step - loss: 0.1012 - accuracy: 0.9759 - val_loss: 0.4457 - val_accuracy: 0.8848\n",
      "Epoch 17/20\n",
      "30/30 [==============================] - 1s 17ms/step - loss: 0.1001 - accuracy: 0.9751 - val_loss: 0.4810 - val_accuracy: 0.8853\n",
      "Epoch 18/20\n",
      "30/30 [==============================] - 0s 17ms/step - loss: 0.0969 - accuracy: 0.9767 - val_loss: 0.5238 - val_accuracy: 0.8829\n",
      "Epoch 19/20\n",
      "30/30 [==============================] - 0s 16ms/step - loss: 0.0979 - accuracy: 0.9737 - val_loss: 0.5556 - val_accuracy: 0.8828\n",
      "Epoch 20/20\n",
      "30/30 [==============================] - 0s 16ms/step - loss: 0.0855 - accuracy: 0.9786 - val_loss: 0.5381 - val_accuracy: 0.8822\n"
     ]
    }
   ],
   "source": [
    "# Dropout model\n",
    "model = models.Sequential()\n",
    "model.add(layers.Dense(16, activation='relu', input_shape=(10000,)))\n",
    "model.add(layers.Dropout(0.5))\n",
    "model.add(layers.Dense(16, activation='relu'))\n",
    "model.add(layers.Dropout(0.5))\n",
    "model.add(layers.Dense(1, activation='sigmoid'))\n",
    "\n",
    "model.compile(optimizer=\"rmsprop\",\n",
    "              loss=\"binary_crossentropy\",\n",
    "              metrics=[\"accuracy\"])\n",
    "x_val = x_train[:10000]\n",
    "partial_x_train = x_train[10000:]\n",
    "y_val = y_train[:10000]\n",
    "partial_y_train = y_train[10000:]\n",
    "\n",
    "history.dropout = model.fit(partial_x_train,\n",
    "                    partial_y_train,\n",
    "                    epochs=20, # 模型训练20轮次\n",
    "                    batch_size=512, #batch_size 批量大小，即一次训练所选取的样本数，512个样本促成的小批量\n",
    "                    validation_data=(x_val, y_val)) #将验证数据传入validation_data 来监控损失和精度\n"
   ]
  },
  {
   "cell_type": "code",
   "execution_count": 36,
   "metadata": {},
   "outputs": [
    {
     "data": {
      "image/png": "[encoded data removed]",
      "text/plain": [
       "<Figure size 432x288 with 1 Axes>"
      ]
     },
     "metadata": {
      "needs_background": "light"
     },
     "output_type": "display_data"
    }
   ],
   "source": [
    "# 画图 Plotting the training and validation loss\n",
    "import matplotlib.pyplot as plt\n",
    "history_dict = history.orignal.history\n",
    "val_loss_values = history_dict[\"val_loss\"] # 提取在10,000个样品的train集上的loss values\n",
    "\n",
    "history_dict = history.L2.history\n",
    "val_loss_values_L2 = history_dict[\"val_loss\"] # 提取在10,000个样品的train集上的loss values\n",
    "\n",
    "history_dict = history.dropout.history\n",
    "val_loss_values_dropout = history_dict[\"val_loss\"] # 提取在10,000个样品的train集上的loss values\n",
    "\n",
    "\n",
    "epochs = range(1, len(loss_values) + 1) # x axis\n",
    "plt.plot(epochs, val_loss_values, \"b\", label=\"Original model\")\n",
    "plt.plot(epochs, val_loss_values_dropout, \"b\",color=\"red\", label=\"Dropout model\")\n",
    "plt.plot(epochs, val_loss_values_L2, \"b\",color=\"black\", label=\"L2 model\")\n",
    "\n",
    "\n",
    "plt.title(\"Validation loss\")\n",
    "plt.xlabel(\"Epochs\")\n",
    "plt.ylabel(\"Loss\")\n",
    "plt.legend()\n",
    "plt.show()"
   ]
  },
  {
   "cell_type": "markdown",
   "metadata": {},
   "source": [
    "### 总结一下，防止神经网络过拟合的常用方法包括：\n",
    "\n",
    "1. 获取更多的训练数据    \n",
    "2. 减小网络容量   \n",
    "3. 添加权重正则化  \n",
    "4. 添加 dropout  "
   ]
  },
  {
   "cell_type": "code",
   "execution_count": null,
   "metadata": {},
   "outputs": [],
   "source": []
  }
 ],
 "metadata": {
  "kernelspec": {
   "display_name": "Python 3",
   "language": "python",
   "name": "python3"
  },
  "language_info": {
   "codemirror_mode": {
    "name": "ipython",
    "version": 3
   },
   "file_extension": ".py",
   "mimetype": "text/x-python",
   "name": "python",
   "nbconvert_exporter": "python",
   "pygments_lexer": "ipython3",
   "version": "3.8.3"
  }
 },
 "nbformat": 4,
 "nbformat_minor": 4
}
