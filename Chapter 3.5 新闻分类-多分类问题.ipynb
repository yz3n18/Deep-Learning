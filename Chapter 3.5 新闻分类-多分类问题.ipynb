{
 "cells": [
  {
   "cell_type": "markdown",
   "metadata": {},
   "source": [
    "本节你会构建一个网络，将路透社新闻划分为46个互斥的主题。因为有多个类别，所以这是多分类（multiclass  classification）问题的一个例子。  \n",
    "\n",
    "因为每个数据点只能划分到一个类别，所以更具体地说，这是单标签、多分类（single-label, multiclass classification）问题的一个例子。  \n",
    "\n",
    "如果每个数据点可以划分到多个类别（主题），那它就是一个多标签、多分类（multilabel,multiclass classification）问题。"
   ]
  },
  {
   "cell_type": "markdown",
   "metadata": {},
   "source": [
    "### 3.5.1 The Reuters dataset 路透社数据\n",
    "它是一个简单的、广泛使用的文本分类数据集。它包括46个不同的主题：某些主题的样本更多，但训练集中每个主题都有至少10个样本"
   ]
  },
  {
   "cell_type": "code",
   "execution_count": 2,
   "metadata": {},
   "outputs": [],
   "source": [
    "import numpy as np\n",
    "import tensorflow as tf\n",
    "from tensorflow import keras\n",
    "from tensorflow.keras import models\n",
    "from tensorflow.keras import layers\n",
    "from tensorflow.keras.datasets import reuters\n",
    "from tensorflow.keras import losses\n",
    "from tensorflow.keras import metrics\n",
    "import matplotlib.pyplot as plt"
   ]
  },
  {
   "cell_type": "code",
   "execution_count": 3,
   "metadata": {},
   "outputs": [
    {
     "name": "stdout",
     "output_type": "stream",
     "text": [
      "Downloading data from https://storage.googleapis.com/tensorflow/tf-keras-datasets/reuters.npz\n",
      "2113536/2110848 [==============================] - 0s 0us/step\n"
     ]
    },
    {
     "name": "stderr",
     "output_type": "stream",
     "text": [
      "/Users/yihuawang/conda/lib/python3.8/site-packages/tensorflow/python/keras/datasets/reuters.py:148: VisibleDeprecationWarning: Creating an ndarray from ragged nested sequences (which is a list-or-tuple of lists-or-tuples-or ndarrays with different lengths or shapes) is deprecated. If you meant to do this, you must specify 'dtype=object' when creating the ndarray.\n",
      "  x_train, y_train = np.array(xs[:idx]), np.array(labels[:idx])\n",
      "/Users/yihuawang/conda/lib/python3.8/site-packages/tensorflow/python/keras/datasets/reuters.py:149: VisibleDeprecationWarning: Creating an ndarray from ragged nested sequences (which is a list-or-tuple of lists-or-tuples-or ndarrays with different lengths or shapes) is deprecated. If you meant to do this, you must specify 'dtype=object' when creating the ndarray.\n",
      "  x_test, y_test = np.array(xs[idx:]), np.array(labels[idx:])\n"
     ]
    }
   ],
   "source": [
    "(train_data, train_labels), (test_data, test_labels) = reuters.load_data(\n",
    "    num_words=10000)"
   ]
  },
  {
   "cell_type": "code",
   "execution_count": 4,
   "metadata": {},
   "outputs": [
    {
     "data": {
      "text/plain": [
       "8982"
      ]
     },
     "execution_count": 4,
     "metadata": {},
     "output_type": "execute_result"
    }
   ],
   "source": [
    "len(train_data)"
   ]
  },
  {
   "cell_type": "code",
   "execution_count": 5,
   "metadata": {},
   "outputs": [
    {
     "data": {
      "text/plain": [
       "2246"
      ]
     },
     "execution_count": 5,
     "metadata": {},
     "output_type": "execute_result"
    }
   ],
   "source": [
    "len(test_data)"
   ]
  },
  {
   "cell_type": "code",
   "execution_count": 6,
   "metadata": {},
   "outputs": [
    {
     "data": {
      "text/plain": [
       "[1,\n",
       " 245,\n",
       " 273,\n",
       " 207,\n",
       " 156,\n",
       " 53,\n",
       " 74,\n",
       " 160,\n",
       " 26,\n",
       " 14,\n",
       " 46,\n",
       " 296,\n",
       " 26,\n",
       " 39,\n",
       " 74,\n",
       " 2979,\n",
       " 3554,\n",
       " 14,\n",
       " 46,\n",
       " 4689,\n",
       " 4329,\n",
       " 86,\n",
       " 61,\n",
       " 3499,\n",
       " 4795,\n",
       " 14,\n",
       " 61,\n",
       " 451,\n",
       " 4329,\n",
       " 17,\n",
       " 12]"
      ]
     },
     "execution_count": 6,
     "metadata": {},
     "output_type": "execute_result"
    }
   ],
   "source": [
    "train_data[10]"
   ]
  },
  {
   "cell_type": "code",
   "execution_count": 7,
   "metadata": {},
   "outputs": [
    {
     "name": "stdout",
     "output_type": "stream",
     "text": [
      "Downloading data from https://storage.googleapis.com/tensorflow/tf-keras-datasets/reuters_word_index.json\n",
      "557056/550378 [==============================] - 0s 0us/step\n"
     ]
    }
   ],
   "source": [
    "word_index = reuters.get_word_index()\n",
    "reverse_word_index = dict([(value, key) for (key, value) in word_index.items()])\n",
    "decoded_newswire = \" \".join([reverse_word_index.get(i - 3, \"?\") for i in\n",
    "    train_data[0]])"
   ]
  },
  {
   "cell_type": "code",
   "execution_count": 10,
   "metadata": {},
   "outputs": [],
   "source": [
    "import numpy as np\n",
    "def vectorize_sequences(sequences, dimension=10000): # 取10,000是因为我们之前限定了10,000个最常见的单词，因此单词索引不会超过10,000\n",
    "    # 以train_data[0]为例子\n",
    "    results = np.zeros((len(sequences), dimension)) #产生一个 218* 10,000的矩阵\n",
    "    for i, sequence in enumerate(sequences): #enumerate() 会产生[(0, 1),(1, 14),...,(217, 32)], \n",
    "                                             #前一个数字代表position, 后一个数字代表单词索引\n",
    "            results[i, sequence] = 1.\n",
    "    return results\n",
    "x_train = vectorize_sequences(train_data)\n",
    "x_test = vectorize_sequences(test_data)"
   ]
  },
  {
   "cell_type": "code",
   "execution_count": 11,
   "metadata": {},
   "outputs": [
    {
     "data": {
      "text/plain": [
       "array([[0., 1., 1., ..., 0., 0., 0.],\n",
       "       [0., 1., 1., ..., 0., 0., 0.],\n",
       "       [0., 1., 1., ..., 0., 0., 0.],\n",
       "       ...,\n",
       "       [0., 1., 1., ..., 0., 0., 0.],\n",
       "       [0., 1., 1., ..., 0., 0., 0.],\n",
       "       [0., 1., 1., ..., 0., 0., 0.]])"
      ]
     },
     "execution_count": 11,
     "metadata": {},
     "output_type": "execute_result"
    }
   ],
   "source": [
    "x_train"
   ]
  },
  {
   "cell_type": "markdown",
   "metadata": {},
   "source": [
    "### Encoding the labels\n",
    "将标签向量化有两种方法：你可以将标签列表转换为整数张量，或者使用one-hot编码。one-hot编码是分类数据广泛使用的一种格式，也叫分类编码（categorical  encoding）。  \n",
    "\n",
    "在这个例子中，标签的 one-hot编码就是将每个标签表示为全零向量，只有标签索引对应的元素为 1。其代码实现如下"
   ]
  },
  {
   "cell_type": "code",
   "execution_count": 12,
   "metadata": {},
   "outputs": [],
   "source": [
    "def to_one_hot(labels, dimension=46): #因为数据集包含46个不同的主题\n",
    "    results = np.zeros((len(labels), dimension))\n",
    "    for i, label in enumerate(labels):\n",
    "        results[i, label] = 1.\n",
    "    return results\n",
    "y_train = to_one_hot(train_labels)\n",
    "y_test = to_one_hot(test_labels)"
   ]
  },
  {
   "cell_type": "code",
   "execution_count": 33,
   "metadata": {},
   "outputs": [],
   "source": [
    "from tensorflow.keras.utils import to_categorical\n",
    "y_train = to_categorical(train_labels)\n",
    "y_test = to_categorical(test_labels)"
   ]
  },
  {
   "cell_type": "markdown",
   "metadata": {},
   "source": [
    "### 3.5.3 Building your model 构建网络\n",
    "\n",
    "Dense层的堆叠，每层只能访问上一层输出的信息。如果某一层丢失了与分类问题相关的一些信息，那么这些信息无法被后面的层找回，也就是说，每一层都可能成为信息瓶颈。上一个例子使用了16维的中间层，但对这个例子来说16维空间可能太小了，无法学会区分46个不同的类别。这种维度较小的层可能成为信息瓶颈，永久地丢失相关信息。  \n",
    "dense层数一般都是2^n"
   ]
  },
  {
   "cell_type": "code",
   "execution_count": 15,
   "metadata": {},
   "outputs": [],
   "source": [
    "model = models.Sequential()\n",
    "model.add(layers.Dense(64, activation='relu', input_shape=(10000,)))\n",
    "model.add(layers.Dense(64, activation='relu'))\n",
    "model.add(layers.Dense(46, activation='softmax')) \n",
    "# 网络的最后一层是大小为46的Dense层。这意味着，对于每个输入样本，网络都会输出一个46维向量。这个向量的每个元素（即每个维度）代表不同的输出类别\n",
    "#最后一层使用了 softmax激活。你在MNIST例子中见过这种用法。网络将输出在46个不同输出类别上的概率分布——对于每一个输入样本，\n",
    "#网络都会输出一个46维向量，其中output[i]是样本属于第i个类别的概率。46个概率的总和为 1。"
   ]
  },
  {
   "cell_type": "code",
   "execution_count": 16,
   "metadata": {},
   "outputs": [],
   "source": [
    "# 多分类--categorical_crossentropy\n",
    "model.compile(optimizer='rmsprop',\n",
    "        loss='categorical_crossentropy',\n",
    "        metrics=['accuracy'])"
   ]
  },
  {
   "cell_type": "markdown",
   "metadata": {},
   "source": [
    "### 3.5.4 Validating your approach 验证\n",
    "同样从训练集中留出1000个作为验证集"
   ]
  },
  {
   "cell_type": "code",
   "execution_count": 17,
   "metadata": {},
   "outputs": [],
   "source": [
    "x_val = x_train[:1000]\n",
    "partial_x_train = x_train[1000:]\n",
    "y_val = y_train[:1000]\n",
    "partial_y_train = y_train[1000:]"
   ]
  },
  {
   "cell_type": "code",
   "execution_count": 18,
   "metadata": {},
   "outputs": [
    {
     "name": "stdout",
     "output_type": "stream",
     "text": [
      "Epoch 1/20\n",
      "16/16 [==============================] - 1s 58ms/step - loss: 3.2019 - accuracy: 0.4083 - val_loss: 1.8418 - val_accuracy: 0.6060\n",
      "Epoch 2/20\n",
      "16/16 [==============================] - 0s 19ms/step - loss: 1.5128 - accuracy: 0.6794 - val_loss: 1.3494 - val_accuracy: 0.7080\n",
      "Epoch 3/20\n",
      "16/16 [==============================] - 0s 19ms/step - loss: 1.1048 - accuracy: 0.7580 - val_loss: 1.1489 - val_accuracy: 0.7520\n",
      "Epoch 4/20\n",
      "16/16 [==============================] - 0s 18ms/step - loss: 0.8511 - accuracy: 0.8181 - val_loss: 1.0594 - val_accuracy: 0.7750\n",
      "Epoch 5/20\n",
      "16/16 [==============================] - 0s 18ms/step - loss: 0.6535 - accuracy: 0.8610 - val_loss: 0.9721 - val_accuracy: 0.7980\n",
      "Epoch 6/20\n",
      "16/16 [==============================] - 0s 19ms/step - loss: 0.5268 - accuracy: 0.8890 - val_loss: 0.9180 - val_accuracy: 0.8050\n",
      "Epoch 7/20\n",
      "16/16 [==============================] - 0s 20ms/step - loss: 0.4357 - accuracy: 0.9127 - val_loss: 0.8845 - val_accuracy: 0.8140\n",
      "Epoch 8/20\n",
      "16/16 [==============================] - 0s 19ms/step - loss: 0.3506 - accuracy: 0.9303 - val_loss: 0.8867 - val_accuracy: 0.8090\n",
      "Epoch 9/20\n",
      "16/16 [==============================] - 0s 21ms/step - loss: 0.2779 - accuracy: 0.9394 - val_loss: 0.8733 - val_accuracy: 0.8210\n",
      "Epoch 10/20\n",
      "16/16 [==============================] - 0s 19ms/step - loss: 0.2404 - accuracy: 0.9430 - val_loss: 0.8902 - val_accuracy: 0.8150\n",
      "Epoch 11/20\n",
      "16/16 [==============================] - 0s 20ms/step - loss: 0.1892 - accuracy: 0.9538 - val_loss: 0.9419 - val_accuracy: 0.8050\n",
      "Epoch 12/20\n",
      "16/16 [==============================] - 0s 22ms/step - loss: 0.1785 - accuracy: 0.9563 - val_loss: 0.9375 - val_accuracy: 0.8120\n",
      "Epoch 13/20\n",
      "16/16 [==============================] - 0s 19ms/step - loss: 0.1632 - accuracy: 0.9559 - val_loss: 0.9424 - val_accuracy: 0.8070\n",
      "Epoch 14/20\n",
      "16/16 [==============================] - 0s 21ms/step - loss: 0.1377 - accuracy: 0.9615 - val_loss: 0.9610 - val_accuracy: 0.8020\n",
      "Epoch 15/20\n",
      "16/16 [==============================] - 0s 20ms/step - loss: 0.1299 - accuracy: 0.9584 - val_loss: 0.9556 - val_accuracy: 0.8190\n",
      "Epoch 16/20\n",
      "16/16 [==============================] - 0s 19ms/step - loss: 0.1135 - accuracy: 0.9608 - val_loss: 0.9794 - val_accuracy: 0.8220\n",
      "Epoch 17/20\n",
      "16/16 [==============================] - 0s 21ms/step - loss: 0.1161 - accuracy: 0.9582 - val_loss: 1.0443 - val_accuracy: 0.7910\n",
      "Epoch 18/20\n",
      "16/16 [==============================] - 0s 19ms/step - loss: 0.1065 - accuracy: 0.9636 - val_loss: 1.0595 - val_accuracy: 0.8060\n",
      "Epoch 19/20\n",
      "16/16 [==============================] - 0s 22ms/step - loss: 0.1029 - accuracy: 0.9625 - val_loss: 1.0202 - val_accuracy: 0.8090\n",
      "Epoch 20/20\n",
      "16/16 [==============================] - 0s 18ms/step - loss: 0.1040 - accuracy: 0.9614 - val_loss: 1.0494 - val_accuracy: 0.8030\n"
     ]
    }
   ],
   "source": [
    "history = model.fit(partial_x_train,\n",
    "                    partial_y_train,\n",
    "                    epochs=20,\n",
    "                    batch_size=512,\n",
    "                    validation_data=(x_val, y_val))"
   ]
  },
  {
   "cell_type": "code",
   "execution_count": 19,
   "metadata": {},
   "outputs": [
    {
     "data": {
      "image/png": "[encoded data removed]",
      "text/plain": [
       "<Figure size 432x288 with 1 Axes>"
      ]
     },
     "metadata": {
      "needs_background": "light"
     },
     "output_type": "display_data"
    }
   ],
   "source": [
    "# Plotting the training and validation loss\n",
    "loss = history.history[\"loss\"]\n",
    "val_loss = history.history[\"val_loss\"]\n",
    "epochs = range(1, len(loss) + 1)\n",
    "plt.plot(epochs, loss, \"bo\", label=\"Training loss\")\n",
    "plt.plot(epochs, val_loss, \"b\", label=\"Validation loss\")\n",
    "plt.title(\"Training and validation loss\")\n",
    "plt.xlabel(\"Epochs\")\n",
    "plt.ylabel(\"Loss\")\n",
    "plt.legend()\n",
    "plt.show()"
   ]
  },
  {
   "cell_type": "code",
   "execution_count": 20,
   "metadata": {},
   "outputs": [
    {
     "data": {
      "image/png": "[encoded data removed]",
      "text/plain": [
       "<Figure size 432x288 with 1 Axes>"
      ]
     },
     "metadata": {
      "needs_background": "light"
     },
     "output_type": "display_data"
    }
   ],
   "source": [
    "# Plotting the training and validation accuracy\n",
    "plt.clf()\n",
    "acc = history.history[\"accuracy\"]\n",
    "val_acc = history.history[\"val_accuracy\"]\n",
    "plt.plot(epochs, acc, \"bo\", label=\"Training accuracy\")\n",
    "plt.plot(epochs, val_acc, \"b\", label=\"Validation accuracy\")\n",
    "plt.title(\"Training and validation accuracy\")\n",
    "plt.xlabel(\"Epochs\")\n",
    "plt.ylabel(\"Accuracy\")\n",
    "plt.legend()\n",
    "plt.show()"
   ]
  },
  {
   "cell_type": "markdown",
   "metadata": {},
   "source": [
    "由图可见，网络在训练9轮后开始过拟合，因此我们从头开始训练一个新网络"
   ]
  },
  {
   "cell_type": "code",
   "execution_count": 34,
   "metadata": {},
   "outputs": [
    {
     "name": "stdout",
     "output_type": "stream",
     "text": [
      "Epoch 1/9\n",
      "18/18 [==============================] - 1s 15ms/step - loss: 3.1356 - accuracy: 0.4042\n",
      "Epoch 2/9\n",
      "18/18 [==============================] - 0s 19ms/step - loss: 1.5120 - accuracy: 0.6950\n",
      "Epoch 3/9\n",
      "18/18 [==============================] - 0s 19ms/step - loss: 1.0402 - accuracy: 0.7798\n",
      "Epoch 4/9\n",
      "18/18 [==============================] - 0s 20ms/step - loss: 0.8158 - accuracy: 0.8282\n",
      "Epoch 5/9\n",
      "18/18 [==============================] - 0s 16ms/step - loss: 0.6275 - accuracy: 0.8693\n",
      "Epoch 6/9\n",
      "18/18 [==============================] - 0s 19ms/step - loss: 0.5104 - accuracy: 0.8912\n",
      "Epoch 7/9\n",
      "18/18 [==============================] - 0s 15ms/step - loss: 0.4131 - accuracy: 0.9131\n",
      "Epoch 8/9\n",
      "18/18 [==============================] - 0s 15ms/step - loss: 0.3441 - accuracy: 0.9287\n",
      "Epoch 9/9\n",
      "18/18 [==============================] - 0s 15ms/step - loss: 0.2649 - accuracy: 0.9448\n",
      "71/71 [==============================] - 0s 1ms/step - loss: 0.9505 - accuracy: 0.7930\n"
     ]
    }
   ],
   "source": [
    "# Retraining a model from scratch\n",
    "model = keras.Sequential([\n",
    "  layers.Dense(64, activation=\"relu\"),\n",
    "  layers.Dense(64, activation=\"relu\"),\n",
    "  layers.Dense(46, activation=\"softmax\")\n",
    "])\n",
    "model.compile(optimizer=\"rmsprop\",\n",
    "              loss=\"categorical_crossentropy\",\n",
    "              metrics=[\"accuracy\"])\n",
    "model.fit(x_train,\n",
    "          y_train,\n",
    "          epochs=9,\n",
    "          batch_size=512)\n",
    "results = model.evaluate(x_test, y_test)\n"
   ]
  },
  {
   "cell_type": "code",
   "execution_count": 22,
   "metadata": {},
   "outputs": [
    {
     "data": {
      "text/plain": [
       "0.1829919857524488"
      ]
     },
     "execution_count": 22,
     "metadata": {},
     "output_type": "execute_result"
    }
   ],
   "source": [
    "# 计算完全随机的精度，大约为18%\n",
    "import copy\n",
    "test_labels_copy = copy.copy(test_labels)\n",
    "np.random.shuffle(test_labels_copy)\n",
    "hits_array = np.array(test_labels) == np.array(test_labels_copy)\n",
    "hits_array.mean()"
   ]
  },
  {
   "cell_type": "markdown",
   "metadata": {},
   "source": [
    "### 3.5.5 Generating predictions on new data 在新数据上生成预测结果"
   ]
  },
  {
   "cell_type": "code",
   "execution_count": 23,
   "metadata": {},
   "outputs": [],
   "source": [
    "predictions = model.predict(x_test)"
   ]
  },
  {
   "cell_type": "code",
   "execution_count": 26,
   "metadata": {},
   "outputs": [
    {
     "data": {
      "text/plain": [
       "(46,)"
      ]
     },
     "execution_count": 26,
     "metadata": {},
     "output_type": "execute_result"
    }
   ],
   "source": [
    "#每个元素都是长度为46的向量\n",
    "predictions[0].shape"
   ]
  },
  {
   "cell_type": "code",
   "execution_count": 25,
   "metadata": {},
   "outputs": [
    {
     "data": {
      "text/plain": [
       "1.0000001"
      ]
     },
     "execution_count": 25,
     "metadata": {},
     "output_type": "execute_result"
    }
   ],
   "source": [
    "#这个向量的所有元素总和为1\n",
    "np.sum(predictions[0])"
   ]
  },
  {
   "cell_type": "code",
   "execution_count": 27,
   "metadata": {},
   "outputs": [
    {
     "data": {
      "text/plain": [
       "4"
      ]
     },
     "execution_count": 27,
     "metadata": {},
     "output_type": "execute_result"
    }
   ],
   "source": [
    "#最大的元素就是预测类别，即概率最大的类别\n",
    "np.argmax(predictions[0])"
   ]
  },
  {
   "cell_type": "markdown",
   "metadata": {},
   "source": [
    "### 3.5.6 A different way to handle the labels and the loss 处理标签和损失的另一种方法\n",
    "前面提到了另一种编码标签的方法，就是将其转换为整数张量，如下所示。"
   ]
  },
  {
   "cell_type": "code",
   "execution_count": 28,
   "metadata": {},
   "outputs": [],
   "source": [
    "y_train = np.array(train_labels)\n",
    "y_test = np.array(test_labels)"
   ]
  },
  {
   "cell_type": "markdown",
   "metadata": {},
   "source": [
    "对于这种编码方法，唯一需要改变的是损失函数的选择。  \n",
    "原本的损失函数 categorical_crossentropy，标签应该遵循分类编码。  \n",
    "对于整数标签，你应该使用sparse_categorical_crossentropy。"
   ]
  },
  {
   "cell_type": "code",
   "execution_count": null,
   "metadata": {},
   "outputs": [],
   "source": [
    "model.compile(optimizer='rmsprop',\n",
    "        loss='sparse_categorical_crossentropy',\n",
    "        metrics=['acc'])\n",
    "#这个新的损失函数在数学上与categorical_crossentropy完全相同，二者只是接口不同。"
   ]
  },
  {
   "cell_type": "markdown",
   "metadata": {},
   "source": [
    "### 3.5.7 The importance of having sufficiently large intermediate layers\n",
    "中间层维度足够大的重要性"
   ]
  },
  {
   "cell_type": "code",
   "execution_count": 29,
   "metadata": {},
   "outputs": [
    {
     "name": "stdout",
     "output_type": "stream",
     "text": [
      "Epoch 1/20\n",
      "63/63 [==============================] - 1s 14ms/step - loss: 3.2789 - accuracy: 0.1416 - val_loss: 2.0881 - val_accuracy: 0.5820\n",
      "Epoch 2/20\n",
      "63/63 [==============================] - 1s 10ms/step - loss: 1.7881 - accuracy: 0.6146 - val_loss: 1.5757 - val_accuracy: 0.6010\n",
      "Epoch 3/20\n",
      "63/63 [==============================] - 1s 10ms/step - loss: 1.4347 - accuracy: 0.6340 - val_loss: 1.4783 - val_accuracy: 0.6240\n",
      "Epoch 4/20\n",
      "63/63 [==============================] - 1s 9ms/step - loss: 1.2615 - accuracy: 0.6527 - val_loss: 1.4279 - val_accuracy: 0.6220\n",
      "Epoch 5/20\n",
      "63/63 [==============================] - 1s 9ms/step - loss: 1.1276 - accuracy: 0.6780 - val_loss: 1.4198 - val_accuracy: 0.6340\n",
      "Epoch 6/20\n",
      "63/63 [==============================] - 1s 9ms/step - loss: 1.0698 - accuracy: 0.6970 - val_loss: 1.4303 - val_accuracy: 0.6420\n",
      "Epoch 7/20\n",
      "63/63 [==============================] - 1s 9ms/step - loss: 0.9986 - accuracy: 0.7199 - val_loss: 1.4244 - val_accuracy: 0.6670\n",
      "Epoch 8/20\n",
      "63/63 [==============================] - 1s 9ms/step - loss: 0.9506 - accuracy: 0.7442 - val_loss: 1.4660 - val_accuracy: 0.6610\n",
      "Epoch 9/20\n",
      "63/63 [==============================] - 1s 10ms/step - loss: 0.8976 - accuracy: 0.7536 - val_loss: 1.4464 - val_accuracy: 0.6630\n",
      "Epoch 10/20\n",
      "63/63 [==============================] - 1s 10ms/step - loss: 0.8376 - accuracy: 0.7760 - val_loss: 1.5083 - val_accuracy: 0.6690\n",
      "Epoch 11/20\n",
      "63/63 [==============================] - 1s 10ms/step - loss: 0.7741 - accuracy: 0.7871 - val_loss: 1.4993 - val_accuracy: 0.6690\n",
      "Epoch 12/20\n",
      "63/63 [==============================] - 1s 10ms/step - loss: 0.6959 - accuracy: 0.8032 - val_loss: 1.5343 - val_accuracy: 0.6750\n",
      "Epoch 13/20\n",
      "63/63 [==============================] - 1s 10ms/step - loss: 0.6701 - accuracy: 0.8066 - val_loss: 1.6229 - val_accuracy: 0.6760\n",
      "Epoch 14/20\n",
      "63/63 [==============================] - 1s 10ms/step - loss: 0.6129 - accuracy: 0.8230 - val_loss: 1.6305 - val_accuracy: 0.6880\n",
      "Epoch 15/20\n",
      "63/63 [==============================] - 1s 10ms/step - loss: 0.5717 - accuracy: 0.8370 - val_loss: 1.6627 - val_accuracy: 0.6830\n",
      "Epoch 16/20\n",
      "63/63 [==============================] - 1s 10ms/step - loss: 0.5481 - accuracy: 0.8432 - val_loss: 1.7123 - val_accuracy: 0.6810\n",
      "Epoch 17/20\n",
      "63/63 [==============================] - 1s 10ms/step - loss: 0.5388 - accuracy: 0.8450 - val_loss: 1.7624 - val_accuracy: 0.6860\n",
      "Epoch 18/20\n",
      "63/63 [==============================] - 1s 11ms/step - loss: 0.4747 - accuracy: 0.8645 - val_loss: 1.8452 - val_accuracy: 0.6890\n",
      "Epoch 19/20\n",
      "63/63 [==============================] - 1s 11ms/step - loss: 0.4641 - accuracy: 0.8630 - val_loss: 1.8689 - val_accuracy: 0.6860\n",
      "Epoch 20/20\n",
      "63/63 [==============================] - 1s 10ms/step - loss: 0.4388 - accuracy: 0.8730 - val_loss: 1.8915 - val_accuracy: 0.6820\n"
     ]
    },
    {
     "data": {
      "text/plain": [
       "<tensorflow.python.keras.callbacks.History at 0x7fed3d71e790>"
      ]
     },
     "execution_count": 29,
     "metadata": {},
     "output_type": "execute_result"
    }
   ],
   "source": [
    "model = models.Sequential()\n",
    "model.add(layers.Dense(64, activation='relu', input_shape=(10000,)))\n",
    "model.add(layers.Dense(4, activation='relu'))\n",
    "model.add(layers.Dense(46, activation='softmax'))\n",
    "model.compile(optimizer='rmsprop',\n",
    "        loss='categorical_crossentropy',\n",
    "        metrics=['accuracy'])\n",
    "model.fit(partial_x_train,\n",
    "        partial_y_train,\n",
    "        epochs=20,\n",
    "        batch_size=128,\n",
    "        validation_data=(x_val, y_val))"
   ]
  },
  {
   "cell_type": "markdown",
   "metadata": {},
   "source": [
    "现在网络的验证精度最大约为 71%，比前面下降了 8%。导致这一下降的主要原因在于，你试图将大量信息（这些信息足够恢复 46个类别的分割超平面）压缩到维度很小的中间空间。网络能够将大部分必要信息塞入这个四维表示中，但并不是全部信息。"
   ]
  },
  {
   "cell_type": "markdown",
   "metadata": {},
   "source": [
    "### 3.5.8　Further experiments 进一步的实验"
   ]
  },
  {
   "cell_type": "code",
   "execution_count": 35,
   "metadata": {},
   "outputs": [
    {
     "name": "stdout",
     "output_type": "stream",
     "text": [
      "Epoch 1/9\n",
      "18/18 [==============================] - 1s 18ms/step - loss: 3.2489 - accuracy: 0.3385\n",
      "Epoch 2/9\n",
      "18/18 [==============================] - 0s 17ms/step - loss: 1.5930 - accuracy: 0.6240\n",
      "Epoch 3/9\n",
      "18/18 [==============================] - 0s 16ms/step - loss: 1.1623 - accuracy: 0.7311\n",
      "Epoch 4/9\n",
      "18/18 [==============================] - 0s 17ms/step - loss: 0.9234 - accuracy: 0.7885\n",
      "Epoch 5/9\n",
      "18/18 [==============================] - 0s 16ms/step - loss: 0.7483 - accuracy: 0.8245\n",
      "Epoch 6/9\n",
      "18/18 [==============================] - 0s 17ms/step - loss: 0.5889 - accuracy: 0.8655\n",
      "Epoch 7/9\n",
      "18/18 [==============================] - 0s 16ms/step - loss: 0.4830 - accuracy: 0.8901\n",
      "Epoch 8/9\n",
      "18/18 [==============================] - 0s 17ms/step - loss: 0.4125 - accuracy: 0.9094\n",
      "Epoch 9/9\n",
      "18/18 [==============================] - 0s 16ms/step - loss: 0.3334 - accuracy: 0.9281\n",
      "71/71 [==============================] - 1s 1ms/step - loss: 1.1635 - accuracy: 0.7609\n"
     ]
    }
   ],
   "source": [
    "model = keras.Sequential([\n",
    "  layers.Dense(64, activation=\"relu\"),\n",
    "  layers.Dense(64, activation=\"relu\"),\n",
    "  layers.Dense(64, activation=\"relu\"),\n",
    "  layers.Dense(64, activation=\"relu\"),\n",
    "  layers.Dense(46, activation=\"softmax\")\n",
    "])\n",
    "model.compile(optimizer=\"rmsprop\",\n",
    "              loss=\"categorical_crossentropy\",\n",
    "              metrics=[\"accuracy\"])\n",
    "model.fit(x_train,\n",
    "          y_train,\n",
    "          epochs=9,\n",
    "          batch_size=512)\n",
    "results = model.evaluate(x_test, y_test)"
   ]
  },
  {
   "cell_type": "code",
   "execution_count": 37,
   "metadata": {},
   "outputs": [
    {
     "name": "stdout",
     "output_type": "stream",
     "text": [
      "Epoch 1/9\n",
      "18/18 [==============================] - 1s 44ms/step - loss: 2.7390 - accuracy: 0.3555\n",
      "Epoch 2/9\n",
      "18/18 [==============================] - 1s 42ms/step - loss: 1.2133 - accuracy: 0.7145\n",
      "Epoch 3/9\n",
      "18/18 [==============================] - 1s 42ms/step - loss: 0.8463 - accuracy: 0.7972\n",
      "Epoch 4/9\n",
      "18/18 [==============================] - 1s 47ms/step - loss: 0.6595 - accuracy: 0.8375\n",
      "Epoch 5/9\n",
      "18/18 [==============================] - 1s 44ms/step - loss: 0.3738 - accuracy: 0.9103\n",
      "Epoch 6/9\n",
      "18/18 [==============================] - 1s 43ms/step - loss: 0.2809 - accuracy: 0.9336\n",
      "Epoch 7/9\n",
      "18/18 [==============================] - 1s 43ms/step - loss: 0.1866 - accuracy: 0.9512\n",
      "Epoch 8/9\n",
      "18/18 [==============================] - 1s 42ms/step - loss: 0.1925 - accuracy: 0.9497\n",
      "Epoch 9/9\n",
      "18/18 [==============================] - 1s 42ms/step - loss: 0.1521 - accuracy: 0.9512\n",
      "71/71 [==============================] - 0s 3ms/step - loss: 1.1956 - accuracy: 0.7916\n"
     ]
    }
   ],
   "source": [
    "model = keras.Sequential([\n",
    "  layers.Dense(256, activation=\"relu\"),\n",
    "  layers.Dense(256, activation=\"relu\"),\n",
    "  layers.Dense(256, activation=\"relu\"),\n",
    "  layers.Dense(256, activation=\"relu\"),\n",
    "  layers.Dense(46, activation=\"softmax\")\n",
    "])\n",
    "model.compile(optimizer=\"rmsprop\",\n",
    "              loss=\"categorical_crossentropy\",\n",
    "              metrics=[\"accuracy\"])\n",
    "model.fit(x_train,\n",
    "          y_train,\n",
    "          epochs=9,\n",
    "          batch_size=512)\n",
    "results = model.evaluate(x_test, y_test)"
   ]
  },
  {
   "cell_type": "code",
   "execution_count": null,
   "metadata": {},
   "outputs": [],
   "source": []
  },
  {
   "cell_type": "code",
   "execution_count": null,
   "metadata": {},
   "outputs": [],
   "source": []
  },
  {
   "cell_type": "code",
   "execution_count": null,
   "metadata": {},
   "outputs": [],
   "source": []
  },
  {
   "cell_type": "code",
   "execution_count": null,
   "metadata": {},
   "outputs": [],
   "source": []
  }
 ],
 "metadata": {
  "kernelspec": {
   "display_name": "Python 3",
   "language": "python",
   "name": "python3"
  },
  "language_info": {
   "codemirror_mode": {
    "name": "ipython",
    "version": 3
   },
   "file_extension": ".py",
   "mimetype": "text/x-python",
   "name": "python",
   "nbconvert_exporter": "python",
   "pygments_lexer": "ipython3",
   "version": "3.8.3"
  }
 },
 "nbformat": 4,
 "nbformat_minor": 4
}
