{
 "cells": [
  {
   "cell_type": "markdown",
   "metadata": {},
   "source": [
    "## Keras具有以下重要特性。\n",
    "\n",
    "1.相同的代码可以在  CPU或  GPU上无缝切换运行。  \n",
    "2.具有用户友好的  API，便于快速开发深度学习模型的原型。  \n",
    "3.内置支持卷积网络（用于计算机视觉）、循环网络（用于序列处理）以及二者的任意组合。  \n",
    "4.支持任意网络架构：多输入或多输出模型、层共享、模型共享等。这也就是说，Keras能够构建任意深度学习模型，无论是生成式对抗网络还是神经图灵机。"
   ]
  },
  {
   "cell_type": "markdown",
   "metadata": {},
   "source": [
    "### 3.2.1 Keras and TensorFlow\n",
    "Keras 通过TensorFlow这个后端实现模块化运行"
   ]
  },
  {
   "cell_type": "markdown",
   "metadata": {},
   "source": [
    "### 3.2.2 使用Keras开发: 概述\n",
    "1) 定义训练数据：输入张量和目标张量。  \n",
    "2) 定义层组成的网络(或模型)，将输入映射到目标。   \n",
    "3) 配置学习过程: 选择损失函数; 优化器和需要调控的指标。  \n",
    "4) 调用模型的fit方法在训练数据上进行迭代。 \n",
    "\n",
    "定义模型有两种方法:  \n",
    "2.1) sequential, 仅用于层的线形堆叠。\n",
    "2.2) 函数式API, 有向无环图。 "
   ]
  },
  {
   "cell_type": "code",
   "execution_count": 4,
   "metadata": {},
   "outputs": [],
   "source": [
    "import numpy as np\n",
    "import tensorflow as tf\n",
    "from tensorflow import keras\n",
    "from tensorflow.keras.datasets import mnist\n",
    "from tensorflow.keras import models\n",
    "from tensorflow.keras import layers\n",
    "from tensorflow.keras import optimizers"
   ]
  },
  {
   "cell_type": "code",
   "execution_count": 2,
   "metadata": {},
   "outputs": [],
   "source": [
    "#Example sequential: 就是将定义模型的过程一步步的叠加起来\n",
    "model = models.Sequential()\n",
    "model.add(layers.Dense(32, activation='relu', input_shape=(784,)))\n",
    "model.add(layers.Dense(10, activation='softmax'))"
   ]
  },
  {
   "cell_type": "code",
   "execution_count": 7,
   "metadata": {},
   "outputs": [],
   "source": [
    "#Example API: 定义模型的过程类似于用R中function的过程\n",
    "input_tensor = layers.Input(shape=(784,))\n",
    "x = layers.Dense(32, activation='relu')(input_tensor)\n",
    "output_tensor = layers.Dense(10, activation='softmax')(x)\n",
    "model = models.Model(inputs=input_tensor, outputs=output_tensor)"
   ]
  },
  {
   "cell_type": "code",
   "execution_count": 5,
   "metadata": {},
   "outputs": [],
   "source": [
    "#3-配置学习过程\n",
    "model.compile(optimizer=optimizers.RMSprop(lr=0.001),\n",
    "       loss='mse',\n",
    "       metrics=['accuracy'])"
   ]
  },
  {
   "cell_type": "code",
   "execution_count": null,
   "metadata": {},
   "outputs": [],
   "source": [
    "#4-调用fit在训练数据上进行迭代\n",
    "model.fit(input_tensor, target_tensor, batch_size=128, epochs=10)"
   ]
  },
  {
   "cell_type": "code",
   "execution_count": null,
   "metadata": {},
   "outputs": [],
   "source": []
  }
 ],
 "metadata": {
  "kernelspec": {
   "display_name": "Python 3",
   "language": "python",
   "name": "python3"
  },
  "language_info": {
   "codemirror_mode": {
    "name": "ipython",
    "version": 3
   },
   "file_extension": ".py",
   "mimetype": "text/x-python",
   "name": "python",
   "nbconvert_exporter": "python",
   "pygments_lexer": "ipython3",
   "version": "3.8.3"
  }
 },
 "nbformat": 4,
 "nbformat_minor": 4
}
